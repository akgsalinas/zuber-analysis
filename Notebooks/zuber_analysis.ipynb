{
 "cells": [
  {
   "cell_type": "markdown",
   "metadata": {},
   "source": [
    "# Análisis de viajes en taxi – Zuber \n",
    "\n",
    "## Introducción\n",
    "\n",
    "Zuber, una nueva empresa de viajes compartidos, quiere analizar los viajes en taxi realizados en Chicago durante noviembre de 2017 para entender:\n",
    "- Las empresas de taxi más activas.\n",
    "- Los barrios con mayor número de llegadas.\n",
    "- El impacto del clima en la duración de los viajes.\n",
    "\n",
    "Este análisis se basa en datos extraídos de una base de datos y archivos CSV proporcionados. Además, se probará una hipótesis sobre cómo las condiciones climáticas afectan los viajes hacia el aeropuerto en un día específico.\n",
    "\n",
    "---\n",
    "\n",
    "## Tabla de contenidos\n",
    "\n",
    "1. [Carga y revisión de datos](#carga-y-revisión-de-datos)\n",
    "2. [Análisis de barrios por viajes finalizados](#análisis-de-barrios-por-viajes-finalizados)\n",
    "3. [Análisis de empresas de taxi](#análisis-de-empresas-de-taxi)\n",
    "4. [Gráficos de resultados](#gráficos-de-resultados)\n",
    "5. [Prueba de hipótesis](#prueba-de-hipótesis)\n",
    "6. [Conclusiones](#conclusiones)"
   ]
  },
  {
   "cell_type": "markdown",
   "metadata": {},
   "source": [
    "### 1. Carga y revisión de datos\n",
    "\n",
    "Importamos los archivos CSV con información sobre las empresas de taxis y los barrios donde finalizaron los viajes. Estos datos fueron obtenidos previamente mediante consultas SQL.\n",
    "\n",
    "Antes de analizarlos, verificamos que:\n",
    "\n",
    "• Los archivos se hayan cargado correctamente.\n",
    "\n",
    "• Las columnas tengan los tipos de datos adecuados.\n",
    "\n",
    "• No haya valores nulos que interfieran con el análisis.\n",
    "\n",
    "Esta revisión nos permite asegurarnos de que los DataFrames están listos para aplicar filtros, agrupaciones y visualizaciones."
   ]
  },
  {
   "cell_type": "code",
   "execution_count": null,
   "metadata": {},
   "outputs": [],
   "source": [
    "import pandas as pd\n",
    "\n",
    "# Importamos los datasets\n",
    "df_companies = pd.read_csv('../Data/moved_project_sql_result_01.csv')\n",
    "df_neighborhoods = pd.read_csv('../Data/moved_project_sql_result_04.csv')\n",
    "\n",
    "# Mostrar información general sobre los DataFrames\n",
    "df_companies.info()\n",
    "print()\n",
    "df_neighborhoods.info()"
   ]
  },
  {
   "cell_type": "markdown",
   "metadata": {},
   "source": [
    "### 2. Análisis de barrios por viajes finalizados\n",
    "\n",
    "Los datos están completos y tienen el tipo de dato correcto. En este paso vamos a identificar los **10 barrios de Chicago con mayor número promedio de viajes finalizados** durante noviembre de 2017. Para eso, usamos el archivo 'project_sql_result_04.csv', que contiene:\n",
    "\n",
    " - **dropoff_location_name:** nombre del barrio donde terminó el viaje\n",
    "\n",
    " - **average_trips:** promedio de viajes finalizados por barrio\n",
    "\n",
    "Este análisis es importante para conocer las **zonas de mayor demanda**, lo cual puede dar pistas útiles para **optimización de flotas, campañas de marketing o diseño de rutas estratégicas**.\n",
    "\n",
    "Vamos a ordenar los datos de forma descendente por número de viajes promedio y luego seleccionar los primeros diez."
   ]
  },
  {
   "cell_type": "code",
   "execution_count": null,
   "metadata": {},
   "outputs": [],
   "source": [
    "# Identificamos los 10 barrios principales por finalización del recorrido\n",
    "top_neighborhoods = df_neighborhoods.sort_values(by='average_trips', ascending=False).head(10)\n",
    "\n",
    "# Mostramos el resultado\n",
    "top_neighborhoods"
   ]
  },
  {
   "cell_type": "markdown",
   "metadata": {},
   "source": [
    "### 3. Análisis de empresas de taxi\n",
    "\n",
    "Ahora vamos a identificar las **10 empresas de taxis con mayor número de viajes registrados** durante los días 15 y 16 de noviembre de 2017. Usaremos el archivo `'project_sql_result_01.csv'`, que contiene:\n",
    "\n",
    "- `company_name`: nombre de la empresa de taxis  \n",
    "- `trips_amount`: número total de viajes realizados por la empresa el 15 y 16 de noviembre de 2017\n",
    "\n",
    "Este análisis nos permite conocer qué empresas tuvieron mayor participación en el mercado durante esos días. Con estos datos, podemos **observar tendencias** que podrían estar relacionadas con cobertura, reputación o promociones específicas.\n",
    "\n",
    "Vamos a ordenar los datos en orden descendente por número de viajes y luego seleccionaremos las 10 primeras empresas."
   ]
  },
  {
   "cell_type": "code",
   "execution_count": null,
   "metadata": {},
   "outputs": [],
   "source": [
    "# Identificamos las 10 empresas con más viajes\n",
    "top_companies = df_companies.sort_values(by='trips_amount', ascending=False).head(10)\n",
    "\n",
    "# Mostramos el resultado\n",
    "top_companies"
   ]
  },
  {
   "cell_type": "markdown",
   "metadata": {},
   "source": [
    "### 4. Gráficos de resultados\n",
    "\n",
    "Ya que identificamos los 10 barrios con mayor número promedio de viajes finalizados y las 10 empresas de taxis con mayor número de viajes durante los días 15 y 16 de noviembre, ahora vamos a visualizar estos datos con gráficos de barras para comparar de forma clara y rápida los valores, detectar patrones y facilitar la interpretación de los datos. En este caso:\n",
    "\n",
    "- La primera gráfica mostrará los **barrios más populares como destino final**.\n",
    "- La segunda gráfica mostrará las **empresas de taxis más activas** en esos días."
   ]
  },
  {
   "cell_type": "code",
   "execution_count": null,
   "metadata": {},
   "outputs": [],
   "source": [
    "import matplotlib.pyplot as plt\n",
    "\n",
    "# Gráfica 1: Barrios más populares\n",
    "plt.figure(figsize=(10, 5))\n",
    "plt.bar(top_neighborhoods['dropoff_location_name'], top_neighborhoods['average_trips'], color='steelblue')\n",
    "plt.title('Top 10 barrios por promedio de viajes finalizados')\n",
    "plt.xlabel('Barrio')\n",
    "plt.ylabel('Promedio de viajes finalizados')\n",
    "plt.xticks(rotation=45)\n",
    "plt.grid(axis='y', linestyle='--', alpha=0.7)\n",
    "plt.tight_layout()\n",
    "plt.show()\n",
    "\n",
    "# Gráfica 2: Empresas más activas\n",
    "plt.figure(figsize=(10, 5))\n",
    "plt.bar(top_companies['company_name'], top_companies['trips_amount'], color='orange')\n",
    "plt.title('Top 10 empresas de taxi por número de viajes')\n",
    "plt.xlabel('Empresa')\n",
    "plt.ylabel('Número de viajes')\n",
    "plt.xticks(rotation=45, ha='right')\n",
    "plt.grid(axis='y', linestyle='--', alpha=0.7)\n",
    "plt.tight_layout()\n",
    "plt.show()"
   ]
  },
  {
   "cell_type": "markdown",
   "metadata": {},
   "source": [
    "#### Conclusión parcial\n",
    "\n",
    "Los gráficos permiten visualizar más facilmente los datos obtenidos:\n",
    "\n",
    "- **Loop**, **River North** y **Streeterville** destacan como los barrios más populares como destino final de los viajes.\n",
    "- **Flash Cab** y **Taxi Affiliation Services** fueron las empresas con mayor número de viajes registrados durante los días 15 y 16 de noviembre de 2017.\n",
    "\n",
    "Con esta información identificamos zonas de alta concentración de viajes y empresas líderes en volumen de servicio. Esto será útil más adelante para interpretar si el impacto del clima afecta de alguna forma diferente a ciertos factores."
   ]
  },
  {
   "cell_type": "markdown",
   "metadata": {},
   "source": [
    "### 5. Prueba de hipótesis\n",
    "\n",
    "Vamos a analizar si las condiciones climáticas afectan la duración de los viajes en taxi desde **Loop** hacia el **Aeropuerto O’Hare**, específicamente los **sábados** de noviembre de 2017.\n",
    "\n",
    "> Ya filtramos estos viajes y los combinamos con los datos del clima en pasos anteriores. Ahora vamos a trabajar directamente con esa tabla (`project_sql_result_07.csv`), que ya incluye el campo `weather_conditions`.\n",
    "\n",
    "#### Objetivo\n",
    "\n",
    "Determinar si existe una diferencia significativa en la duración promedio de los viajes entre días con **buen clima (Good)** y **mal clima (Bad)**.\n",
    "\n",
    "#### Hipótesis\n",
    "\n",
    "- **Hipótesis nula (H₀):** No hay diferencia en la duración promedio entre climas buenos y malos.\n",
    "- **Hipótesis alternativa (H₁):** Sí hay una diferencia significativa en la duración promedio entre climas buenos y malos.\n",
    "\n",
    "#### Metodología\n",
    "\n",
    "1. Cargamos los datos de viajes ya filtrados y clasificados por clima.\n",
    "2. Dividimos la duración de los viajes en dos grupos según `weather_conditions`.\n",
    "3. Revisamos estadísticas descriptivas de cada grupo (mínimo, máximo, media, etc.).\n",
    "4. Aplicamos una **prueba de hipótesis (t-test de dos muestras)** para determinar si la diferencia en duraciones es estadísticamente significativa.\n",
    "\n",
    "---\n",
    "\n",
    "Este análisis nos ayuda a identificar si el clima tiene un impacto tangible en los tiempos de traslado, lo cual puede ser útil para planificación operativa, estimaciones de viaje y decisiones estratégicas para empresas de transporte."
   ]
  },
  {
   "cell_type": "code",
   "execution_count": null,
   "metadata": {},
   "outputs": [],
   "source": [
    "from scipy import stats\n",
    "\n",
    "# 1. Cargar el archivo y revisar su estructura.\n",
    "df = pd.read_csv('../Data/moved_project_sql_result_07.csv')\n",
    "\n",
    "# Revisar si hay valores ausentes que puedan afectar\n",
    "print(df.isna().sum())\n",
    "\n",
    "# Separar los viajes por clima\n",
    "good_weather = df[df['weather_conditions'] == 'Good']['duration_seconds']\n",
    "bad_weather = df[df['weather_conditions'] == 'Bad']['duration_seconds']"
   ]
  },
  {
   "cell_type": "code",
   "execution_count": null,
   "metadata": {},
   "outputs": [],
   "source": [
    "# 2. Análisis descriptivo\n",
    "# Revisar estadísticas básicas de cada grupo\n",
    "print(\"Viajes con buen clima:\")\n",
    "print(good_weather.describe())\n",
    "\n",
    "print(\"\\nViajes con mal clima:\")\n",
    "print(bad_weather.describe())"
   ]
  },
  {
   "cell_type": "code",
   "execution_count": null,
   "metadata": {},
   "outputs": [],
   "source": [
    "# 3. Prueba estadística e interpretación\n",
    "\n",
    "# Prueba de hipótesis: t-test\n",
    "alpha = 0.05\n",
    "t_stat, p_val = stats.ttest_ind(good_weather, bad_weather, equal_var=False)\n",
    "\n",
    "print(\"\\nResultados del t-test:\")\n",
    "print()\n",
    "print(\"Estadístico t:\", t_stat)\n",
    "print(\"p-valor:\", p_val)\n",
    "\n",
    "\n",
    "# Interpretación\n",
    "if p_val < alpha:\n",
    "    print(\"Rechazamos la hipótesis nula. El clima afecta significativamente la duración de los viajes.\")\n",
    "else:\n",
    "    print(\"No se puede rechazar la hipótesis nula. No hay evidencia suficiente de que el clima afecte la duración.\")"
   ]
  },
  {
   "cell_type": "markdown",
   "metadata": {},
   "source": [
    "### 6. Conclusiones y siguientes pasos\n",
    "\n",
    "#### Conclusión del análisis\n",
    "\n",
    "Durante noviembre de 2017, encontramos que:\n",
    "\n",
    "- Los **barrios con más viajes finalizados** fueron Loop, River North y Streeterville, lo que sugiere zonas de alta atracción (por trabajo, turismo o conexión).\n",
    "- Las **empresas más activas** fueron Flash Cab y Taxi Affiliation Services.\n",
    "- Al comparar viajes desde Loop al Aeropuerto O’Hare en sábados, descubrimos que **las condiciones climáticas sí afectan significativamente la duración del trayecto**.\n",
    "\n",
    "> En promedio, un viaje en clima malo dura **21.3% más** que uno en clima bueno (de 1999 a 2427 segundos).\n",
    "\n",
    "Esto sugiere que el clima debe considerarse al **planear tiempos estimados de viaje** o **optimizar rutas**.\n",
    "\n",
    "---\n",
    "\n",
    "#### Siguientes pasos sugeridos\n",
    "\n",
    "1. **Modelos predictivos**: Incorporar variables como clima, hora y día para anticipar la duración de los viajes con mayor precisión.\n",
    "\n",
    "2. **Optimización de flota**: Aunque inicialmente se pensó en reforzar destinos con más finalizaciones, sería más útil ubicar taxis donde **empiezan los viajes**, ya que eso activa la demanda.\n",
    "\n",
    "3. **Análisis de la competencia**: Observar el comportamiento de las empresas más activas (Flash Cab, etc.) para identificar si operan con mejor cobertura, tarifas, reputación u horarios específicos.\n",
    "\n",
    "4. **Identificación de corredores estratégicos**:\n",
    "   - Analizar los tramos más frecuentes entre barrios (por ejemplo, Loop → O’Hare).\n",
    "   - Implementar **estrategias de marketing específicas** o **rutas compartidas con tarifa reducida** en estos corredores.\n",
    "     - Ejemplo: promociones grupales o servicios tipo shuttle en rutas de alta demanda para mejorar rentabilidad por kilómetro."
   ]
  }
 ],
 "metadata": {
  "kernelspec": {
   "display_name": "Python 3 (ipykernel)",
   "language": "python",
   "name": "python3"
  },
  "language_info": {
   "codemirror_mode": {
    "name": "ipython",
    "version": 3
   },
   "file_extension": ".py",
   "mimetype": "text/x-python",
   "name": "python",
   "nbconvert_exporter": "python",
   "pygments_lexer": "ipython3",
   "version": "3.11.13"
  }
 },
 "nbformat": 4,
 "nbformat_minor": 4
}
